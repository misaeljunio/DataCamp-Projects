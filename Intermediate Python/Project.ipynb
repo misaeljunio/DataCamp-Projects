{
 "cells": [
  {
   "cell_type": "markdown",
   "id": "prostate-arizona",
   "metadata": {
    "id": "bA5ajAmk7XH6"
   },
   "source": [
    "# Intermediate Python\n",
    "\n",
    "The purpose of this notebook is to practice some of the knowledge acquired during the [Intermediate Python] course of the Data Scientist with Python career track offered by DataCamp."
   ]
  },
  {
   "cell_type": "markdown",
   "id": "laden-specification",
   "metadata": {},
   "source": [
    "## 1. Load in the Data\n",
    "The code below imports packages that were used in Intermediate Python: NumPy, pandas and Matplotlib. The code also imports data that was used in the course as DataFrames using pandas [`read_csv()`](https://pandas.pydata.org/docs/reference/api/pandas.read_csv.html)."
   ]
  },
  {
   "cell_type": "code",
   "execution_count": 3,
   "id": "2e25fdd8-4d84-45bc-80f0-949917e00a17",
   "metadata": {
    "scrolled": true
   },
   "outputs": [
    {
     "data": {
      "application/com.datacamp.data-table.v1+json": {
       "is_truncated": false,
       "table": {
        "data": [
         {
          "cont": "Asia",
          "country": "Afghanistan",
          "gdp_cap": 974.5803384,
          "index": 0,
          "life_exp": 43.828,
          "population": 31889923,
          "year": 2007
         },
         {
          "cont": "Europe",
          "country": "Albania",
          "gdp_cap": 5937.029526,
          "index": 1,
          "life_exp": 76.423,
          "population": 3600523,
          "year": 2007
         },
         {
          "cont": "Africa",
          "country": "Algeria",
          "gdp_cap": 6223.367465,
          "index": 2,
          "life_exp": 72.301,
          "population": 33333216,
          "year": 2007
         },
         {
          "cont": "Africa",
          "country": "Angola",
          "gdp_cap": 4797.231267,
          "index": 3,
          "life_exp": 42.731,
          "population": 12420476,
          "year": 2007
         },
         {
          "cont": "Americas",
          "country": "Argentina",
          "gdp_cap": 12779.37964,
          "index": 4,
          "life_exp": 75.32,
          "population": 40301927,
          "year": 2007
         },
         {
          "cont": "Oceania",
          "country": "Australia",
          "gdp_cap": 34435.36744,
          "index": 5,
          "life_exp": 81.235,
          "population": 20434176,
          "year": 2007
         },
         {
          "cont": "Europe",
          "country": "Austria",
          "gdp_cap": 36126.4927,
          "index": 6,
          "life_exp": 79.829,
          "population": 8199783,
          "year": 2007
         },
         {
          "cont": "Asia",
          "country": "Bahrain",
          "gdp_cap": 29796.04834,
          "index": 7,
          "life_exp": 75.635,
          "population": 708573,
          "year": 2007
         },
         {
          "cont": "Asia",
          "country": "Bangladesh",
          "gdp_cap": 1391.253792,
          "index": 8,
          "life_exp": 64.062,
          "population": 150448339,
          "year": 2007
         },
         {
          "cont": "Europe",
          "country": "Belgium",
          "gdp_cap": 33692.60508,
          "index": 9,
          "life_exp": 79.441,
          "population": 10392226,
          "year": 2007
         },
         {
          "cont": "Africa",
          "country": "Benin",
          "gdp_cap": 1441.284873,
          "index": 10,
          "life_exp": 56.728,
          "population": 8078314,
          "year": 2007
         },
         {
          "cont": "Americas",
          "country": "Bolivia",
          "gdp_cap": 3822.137084,
          "index": 11,
          "life_exp": 65.554,
          "population": 9119152,
          "year": 2007
         },
         {
          "cont": "Europe",
          "country": "Bosnia and Herzegovina",
          "gdp_cap": 7446.298803,
          "index": 12,
          "life_exp": 74.852,
          "population": 4552198,
          "year": 2007
         },
         {
          "cont": "Africa",
          "country": "Botswana",
          "gdp_cap": 12569.85177,
          "index": 13,
          "life_exp": 50.728,
          "population": 1639131,
          "year": 2007
         },
         {
          "cont": "Americas",
          "country": "Brazil",
          "gdp_cap": 9065.800825,
          "index": 14,
          "life_exp": 72.39,
          "population": 190010647,
          "year": 2007
         },
         {
          "cont": "Europe",
          "country": "Bulgaria",
          "gdp_cap": 10680.79282,
          "index": 15,
          "life_exp": 73.005,
          "population": 7322858,
          "year": 2007
         },
         {
          "cont": "Africa",
          "country": "Burkina Faso",
          "gdp_cap": 1217.032994,
          "index": 16,
          "life_exp": 52.295,
          "population": 14326203,
          "year": 2007
         },
         {
          "cont": "Africa",
          "country": "Burundi",
          "gdp_cap": 430.0706916,
          "index": 17,
          "life_exp": 49.58,
          "population": 8390505,
          "year": 2007
         },
         {
          "cont": "Asia",
          "country": "Cambodia",
          "gdp_cap": 1713.778686,
          "index": 18,
          "life_exp": 59.723,
          "population": 14131858,
          "year": 2007
         },
         {
          "cont": "Africa",
          "country": "Cameroon",
          "gdp_cap": 2042.09524,
          "index": 19,
          "life_exp": 50.43,
          "population": 17696293,
          "year": 2007
         },
         {
          "cont": "Americas",
          "country": "Canada",
          "gdp_cap": 36319.23501,
          "index": 20,
          "life_exp": 80.653,
          "population": 33390141,
          "year": 2007
         },
         {
          "cont": "Africa",
          "country": "Central African Republic",
          "gdp_cap": 706.016537,
          "index": 21,
          "life_exp": 44.741,
          "population": 4369038,
          "year": 2007
         },
         {
          "cont": "Africa",
          "country": "Chad",
          "gdp_cap": 1704.063724,
          "index": 22,
          "life_exp": 50.651,
          "population": 10238807,
          "year": 2007
         },
         {
          "cont": "Americas",
          "country": "Chile",
          "gdp_cap": 13171.63885,
          "index": 23,
          "life_exp": 78.553,
          "population": 16284741,
          "year": 2007
         },
         {
          "cont": "Asia",
          "country": "China",
          "gdp_cap": 4959.114854,
          "index": 24,
          "life_exp": 72.961,
          "population": 1318683096,
          "year": 2007
         },
         {
          "cont": "Americas",
          "country": "Colombia",
          "gdp_cap": 7006.580419,
          "index": 25,
          "life_exp": 72.889,
          "population": 44227550,
          "year": 2007
         },
         {
          "cont": "Africa",
          "country": "Comoros",
          "gdp_cap": 986.1478792,
          "index": 26,
          "life_exp": 65.152,
          "population": 710960,
          "year": 2007
         },
         {
          "cont": "Africa",
          "country": "Congo, Dem. Rep.",
          "gdp_cap": 277.5518587,
          "index": 27,
          "life_exp": 46.462,
          "population": 64606759,
          "year": 2007
         },
         {
          "cont": "Africa",
          "country": "Congo, Rep.",
          "gdp_cap": 3632.557798,
          "index": 28,
          "life_exp": 55.322,
          "population": 3800610,
          "year": 2007
         },
         {
          "cont": "Americas",
          "country": "Costa Rica",
          "gdp_cap": 9645.06142,
          "index": 29,
          "life_exp": 78.782,
          "population": 4133884,
          "year": 2007
         },
         {
          "cont": "Africa",
          "country": "Cote d'Ivoire",
          "gdp_cap": 1544.750112,
          "index": 30,
          "life_exp": 48.328,
          "population": 18013409,
          "year": 2007
         },
         {
          "cont": "Europe",
          "country": "Croatia",
          "gdp_cap": 14619.22272,
          "index": 31,
          "life_exp": 75.748,
          "population": 4493312,
          "year": 2007
         },
         {
          "cont": "Americas",
          "country": "Cuba",
          "gdp_cap": 8948.102923,
          "index": 32,
          "life_exp": 78.273,
          "population": 11416987,
          "year": 2007
         },
         {
          "cont": "Europe",
          "country": "Czech Republic",
          "gdp_cap": 22833.30851,
          "index": 33,
          "life_exp": 76.486,
          "population": 10228744,
          "year": 2007
         },
         {
          "cont": "Europe",
          "country": "Denmark",
          "gdp_cap": 35278.41874,
          "index": 34,
          "life_exp": 78.332,
          "population": 5468120,
          "year": 2007
         },
         {
          "cont": "Africa",
          "country": "Djibouti",
          "gdp_cap": 2082.481567,
          "index": 35,
          "life_exp": 54.791,
          "population": 496374,
          "year": 2007
         },
         {
          "cont": "Americas",
          "country": "Dominican Republic",
          "gdp_cap": 6025.374752,
          "index": 36,
          "life_exp": 72.235,
          "population": 9319622,
          "year": 2007
         },
         {
          "cont": "Americas",
          "country": "Ecuador",
          "gdp_cap": 6873.262326,
          "index": 37,
          "life_exp": 74.994,
          "population": 13755680,
          "year": 2007
         },
         {
          "cont": "Africa",
          "country": "Egypt",
          "gdp_cap": 5581.180998,
          "index": 38,
          "life_exp": 71.338,
          "population": 80264543,
          "year": 2007
         },
         {
          "cont": "Americas",
          "country": "El Salvador",
          "gdp_cap": 5728.353514,
          "index": 39,
          "life_exp": 71.878,
          "population": 6939688,
          "year": 2007
         },
         {
          "cont": "Africa",
          "country": "Equatorial Guinea",
          "gdp_cap": 12154.08975,
          "index": 40,
          "life_exp": 51.579,
          "population": 551201,
          "year": 2007
         },
         {
          "cont": "Africa",
          "country": "Eritrea",
          "gdp_cap": 641.3695236,
          "index": 41,
          "life_exp": 58.04,
          "population": 4906585,
          "year": 2007
         },
         {
          "cont": "Africa",
          "country": "Ethiopia",
          "gdp_cap": 690.8055759,
          "index": 42,
          "life_exp": 52.947,
          "population": 76511887,
          "year": 2007
         },
         {
          "cont": "Europe",
          "country": "Finland",
          "gdp_cap": 33207.0844,
          "index": 43,
          "life_exp": 79.313,
          "population": 5238460,
          "year": 2007
         },
         {
          "cont": "Europe",
          "country": "France",
          "gdp_cap": 30470.0167,
          "index": 44,
          "life_exp": 80.657,
          "population": 61083916,
          "year": 2007
         },
         {
          "cont": "Africa",
          "country": "Gabon",
          "gdp_cap": 13206.48452,
          "index": 45,
          "life_exp": 56.735,
          "population": 1454867,
          "year": 2007
         },
         {
          "cont": "Africa",
          "country": "Gambia",
          "gdp_cap": 752.7497265,
          "index": 46,
          "life_exp": 59.448,
          "population": 1688359,
          "year": 2007
         },
         {
          "cont": "Europe",
          "country": "Germany",
          "gdp_cap": 32170.37442,
          "index": 47,
          "life_exp": 79.406,
          "population": 82400996,
          "year": 2007
         },
         {
          "cont": "Africa",
          "country": "Ghana",
          "gdp_cap": 1327.60891,
          "index": 48,
          "life_exp": 60.022,
          "population": 22873338,
          "year": 2007
         },
         {
          "cont": "Europe",
          "country": "Greece",
          "gdp_cap": 27538.41188,
          "index": 49,
          "life_exp": 79.483,
          "population": 10706290,
          "year": 2007
         },
         {
          "cont": "Americas",
          "country": "Guatemala",
          "gdp_cap": 5186.050003,
          "index": 50,
          "life_exp": 70.259,
          "population": 12572928,
          "year": 2007
         },
         {
          "cont": "Africa",
          "country": "Guinea",
          "gdp_cap": 942.6542111,
          "index": 51,
          "life_exp": 56.007,
          "population": 9947814,
          "year": 2007
         },
         {
          "cont": "Africa",
          "country": "Guinea-Bissau",
          "gdp_cap": 579.231743,
          "index": 52,
          "life_exp": 46.388,
          "population": 1472041,
          "year": 2007
         },
         {
          "cont": "Americas",
          "country": "Haiti",
          "gdp_cap": 1201.637154,
          "index": 53,
          "life_exp": 60.916,
          "population": 8502814,
          "year": 2007
         },
         {
          "cont": "Americas",
          "country": "Honduras",
          "gdp_cap": 3548.330846,
          "index": 54,
          "life_exp": 70.198,
          "population": 7483763,
          "year": 2007
         },
         {
          "cont": "Asia",
          "country": "Hong Kong, China",
          "gdp_cap": 39724.97867,
          "index": 55,
          "life_exp": 82.208,
          "population": 6980412,
          "year": 2007
         },
         {
          "cont": "Europe",
          "country": "Hungary",
          "gdp_cap": 18008.94444,
          "index": 56,
          "life_exp": 73.338,
          "population": 9956108,
          "year": 2007
         },
         {
          "cont": "Europe",
          "country": "Iceland",
          "gdp_cap": 36180.78919,
          "index": 57,
          "life_exp": 81.757,
          "population": 301931,
          "year": 2007
         },
         {
          "cont": "Asia",
          "country": "India",
          "gdp_cap": 2452.210407,
          "index": 58,
          "life_exp": 64.698,
          "population": 1110396331,
          "year": 2007
         },
         {
          "cont": "Asia",
          "country": "Indonesia",
          "gdp_cap": 3540.651564,
          "index": 59,
          "life_exp": 70.65,
          "population": 223547000,
          "year": 2007
         },
         {
          "cont": "Asia",
          "country": "Iran",
          "gdp_cap": 11605.71449,
          "index": 60,
          "life_exp": 70.964,
          "population": 69453570,
          "year": 2007
         },
         {
          "cont": "Asia",
          "country": "Iraq",
          "gdp_cap": 4471.061906,
          "index": 61,
          "life_exp": 59.545,
          "population": 27499638,
          "year": 2007
         },
         {
          "cont": "Europe",
          "country": "Ireland",
          "gdp_cap": 40675.99635,
          "index": 62,
          "life_exp": 78.885,
          "population": 4109086,
          "year": 2007
         },
         {
          "cont": "Asia",
          "country": "Israel",
          "gdp_cap": 25523.2771,
          "index": 63,
          "life_exp": 80.745,
          "population": 6426679,
          "year": 2007
         },
         {
          "cont": "Europe",
          "country": "Italy",
          "gdp_cap": 28569.7197,
          "index": 64,
          "life_exp": 80.546,
          "population": 58147733,
          "year": 2007
         },
         {
          "cont": "Americas",
          "country": "Jamaica",
          "gdp_cap": 7320.880262,
          "index": 65,
          "life_exp": 72.567,
          "population": 2780132,
          "year": 2007
         },
         {
          "cont": "Asia",
          "country": "Japan",
          "gdp_cap": 31656.06806,
          "index": 66,
          "life_exp": 82.603,
          "population": 127467972,
          "year": 2007
         },
         {
          "cont": "Asia",
          "country": "Jordan",
          "gdp_cap": 4519.461171,
          "index": 67,
          "life_exp": 72.535,
          "population": 6053193,
          "year": 2007
         },
         {
          "cont": "Africa",
          "country": "Kenya",
          "gdp_cap": 1463.249282,
          "index": 68,
          "life_exp": 54.11,
          "population": 35610177,
          "year": 2007
         },
         {
          "cont": "Asia",
          "country": "Korea, Dem. Rep.",
          "gdp_cap": 1593.06548,
          "index": 69,
          "life_exp": 67.297,
          "population": 23301725,
          "year": 2007
         },
         {
          "cont": "Asia",
          "country": "Korea, Rep.",
          "gdp_cap": 23348.13973,
          "index": 70,
          "life_exp": 78.623,
          "population": 49044790,
          "year": 2007
         },
         {
          "cont": "Asia",
          "country": "Kuwait",
          "gdp_cap": 47306.98978,
          "index": 71,
          "life_exp": 77.588,
          "population": 2505559,
          "year": 2007
         },
         {
          "cont": "Asia",
          "country": "Lebanon",
          "gdp_cap": 10461.05868,
          "index": 72,
          "life_exp": 71.993,
          "population": 3921278,
          "year": 2007
         },
         {
          "cont": "Africa",
          "country": "Lesotho",
          "gdp_cap": 1569.331442,
          "index": 73,
          "life_exp": 42.592,
          "population": 2012649,
          "year": 2007
         },
         {
          "cont": "Africa",
          "country": "Liberia",
          "gdp_cap": 414.5073415,
          "index": 74,
          "life_exp": 45.678,
          "population": 3193942,
          "year": 2007
         },
         {
          "cont": "Africa",
          "country": "Libya",
          "gdp_cap": 12057.49928,
          "index": 75,
          "life_exp": 73.952,
          "population": 6036914,
          "year": 2007
         },
         {
          "cont": "Africa",
          "country": "Madagascar",
          "gdp_cap": 1044.770126,
          "index": 76,
          "life_exp": 59.443,
          "population": 19167654,
          "year": 2007
         },
         {
          "cont": "Africa",
          "country": "Malawi",
          "gdp_cap": 759.3499101,
          "index": 77,
          "life_exp": 48.303,
          "population": 13327079,
          "year": 2007
         },
         {
          "cont": "Asia",
          "country": "Malaysia",
          "gdp_cap": 12451.6558,
          "index": 78,
          "life_exp": 74.241,
          "population": 24821286,
          "year": 2007
         },
         {
          "cont": "Africa",
          "country": "Mali",
          "gdp_cap": 1042.581557,
          "index": 79,
          "life_exp": 54.467,
          "population": 12031795,
          "year": 2007
         },
         {
          "cont": "Africa",
          "country": "Mauritania",
          "gdp_cap": 1803.151496,
          "index": 80,
          "life_exp": 64.164,
          "population": 3270065,
          "year": 2007
         },
         {
          "cont": "Africa",
          "country": "Mauritius",
          "gdp_cap": 10956.99112,
          "index": 81,
          "life_exp": 72.801,
          "population": 1250882,
          "year": 2007
         },
         {
          "cont": "Americas",
          "country": "Mexico",
          "gdp_cap": 11977.57496,
          "index": 82,
          "life_exp": 76.195,
          "population": 108700891,
          "year": 2007
         },
         {
          "cont": "Asia",
          "country": "Mongolia",
          "gdp_cap": 3095.772271,
          "index": 83,
          "life_exp": 66.803,
          "population": 2874127,
          "year": 2007
         },
         {
          "cont": "Europe",
          "country": "Montenegro",
          "gdp_cap": 9253.896111,
          "index": 84,
          "life_exp": 74.543,
          "population": 684736,
          "year": 2007
         },
         {
          "cont": "Africa",
          "country": "Morocco",
          "gdp_cap": 3820.17523,
          "index": 85,
          "life_exp": 71.164,
          "population": 33757175,
          "year": 2007
         },
         {
          "cont": "Africa",
          "country": "Mozambique",
          "gdp_cap": 823.6856205,
          "index": 86,
          "life_exp": 42.082,
          "population": 19951656,
          "year": 2007
         },
         {
          "cont": "Asia",
          "country": "Myanmar",
          "gdp_cap": 944,
          "index": 87,
          "life_exp": 62.069,
          "population": 47761980,
          "year": 2007
         },
         {
          "cont": "Africa",
          "country": "Namibia",
          "gdp_cap": 4811.060429,
          "index": 88,
          "life_exp": 52.906,
          "population": 2055080,
          "year": 2007
         },
         {
          "cont": "Asia",
          "country": "Nepal",
          "gdp_cap": 1091.359778,
          "index": 89,
          "life_exp": 63.785,
          "population": 28901790,
          "year": 2007
         },
         {
          "cont": "Europe",
          "country": "Netherlands",
          "gdp_cap": 36797.93332,
          "index": 90,
          "life_exp": 79.762,
          "population": 16570613,
          "year": 2007
         },
         {
          "cont": "Oceania",
          "country": "New Zealand",
          "gdp_cap": 25185.00911,
          "index": 91,
          "life_exp": 80.204,
          "population": 4115771,
          "year": 2007
         },
         {
          "cont": "Americas",
          "country": "Nicaragua",
          "gdp_cap": 2749.320965,
          "index": 92,
          "life_exp": 72.899,
          "population": 5675356,
          "year": 2007
         },
         {
          "cont": "Africa",
          "country": "Niger",
          "gdp_cap": 619.6768924,
          "index": 93,
          "life_exp": 56.867,
          "population": 12894865,
          "year": 2007
         },
         {
          "cont": "Africa",
          "country": "Nigeria",
          "gdp_cap": 2013.977305,
          "index": 94,
          "life_exp": 46.859,
          "population": 135031164,
          "year": 2007
         },
         {
          "cont": "Europe",
          "country": "Norway",
          "gdp_cap": 49357.19017,
          "index": 95,
          "life_exp": 80.196,
          "population": 4627926,
          "year": 2007
         },
         {
          "cont": "Asia",
          "country": "Oman",
          "gdp_cap": 22316.19287,
          "index": 96,
          "life_exp": 75.64,
          "population": 3204897,
          "year": 2007
         },
         {
          "cont": "Asia",
          "country": "Pakistan",
          "gdp_cap": 2605.94758,
          "index": 97,
          "life_exp": 65.483,
          "population": 169270617,
          "year": 2007
         },
         {
          "cont": "Americas",
          "country": "Panama",
          "gdp_cap": 9809.185636,
          "index": 98,
          "life_exp": 75.537,
          "population": 3242173,
          "year": 2007
         },
         {
          "cont": "Americas",
          "country": "Paraguay",
          "gdp_cap": 4172.838464,
          "index": 99,
          "life_exp": 71.752,
          "population": 6667147,
          "year": 2007
         },
         {
          "cont": "Americas",
          "country": "Peru",
          "gdp_cap": 7408.905561,
          "index": 100,
          "life_exp": 71.421,
          "population": 28674757,
          "year": 2007
         },
         {
          "cont": "Asia",
          "country": "Philippines",
          "gdp_cap": 3190.481016,
          "index": 101,
          "life_exp": 71.688,
          "population": 91077287,
          "year": 2007
         },
         {
          "cont": "Europe",
          "country": "Poland",
          "gdp_cap": 15389.92468,
          "index": 102,
          "life_exp": 75.563,
          "population": 38518241,
          "year": 2007
         },
         {
          "cont": "Europe",
          "country": "Portugal",
          "gdp_cap": 20509.64777,
          "index": 103,
          "life_exp": 78.098,
          "population": 10642836,
          "year": 2007
         },
         {
          "cont": "Americas",
          "country": "Puerto Rico",
          "gdp_cap": 19328.70901,
          "index": 104,
          "life_exp": 78.746,
          "population": 3942491,
          "year": 2007
         },
         {
          "cont": "Africa",
          "country": "Reunion",
          "gdp_cap": 7670.122558,
          "index": 105,
          "life_exp": 76.442,
          "population": 798094,
          "year": 2007
         },
         {
          "cont": "Europe",
          "country": "Romania",
          "gdp_cap": 10808.47561,
          "index": 106,
          "life_exp": 72.476,
          "population": 22276056,
          "year": 2007
         },
         {
          "cont": "Africa",
          "country": "Rwanda",
          "gdp_cap": 863.0884639,
          "index": 107,
          "life_exp": 46.242,
          "population": 8860588,
          "year": 2007
         },
         {
          "cont": "Africa",
          "country": "Sao Tome and Principe",
          "gdp_cap": 1598.435089,
          "index": 108,
          "life_exp": 65.528,
          "population": 199579,
          "year": 2007
         },
         {
          "cont": "Asia",
          "country": "Saudi Arabia",
          "gdp_cap": 21654.83194,
          "index": 109,
          "life_exp": 72.777,
          "population": 27601038,
          "year": 2007
         },
         {
          "cont": "Africa",
          "country": "Senegal",
          "gdp_cap": 1712.472136,
          "index": 110,
          "life_exp": 63.062,
          "population": 12267493,
          "year": 2007
         },
         {
          "cont": "Europe",
          "country": "Serbia",
          "gdp_cap": 9786.534714,
          "index": 111,
          "life_exp": 74.002,
          "population": 10150265,
          "year": 2007
         },
         {
          "cont": "Africa",
          "country": "Sierra Leone",
          "gdp_cap": 862.5407561,
          "index": 112,
          "life_exp": 42.568,
          "population": 6144562,
          "year": 2007
         },
         {
          "cont": "Asia",
          "country": "Singapore",
          "gdp_cap": 47143.17964,
          "index": 113,
          "life_exp": 79.972,
          "population": 4553009,
          "year": 2007
         },
         {
          "cont": "Europe",
          "country": "Slovak Republic",
          "gdp_cap": 18678.31435,
          "index": 114,
          "life_exp": 74.663,
          "population": 5447502,
          "year": 2007
         },
         {
          "cont": "Europe",
          "country": "Slovenia",
          "gdp_cap": 25768.25759,
          "index": 115,
          "life_exp": 77.926,
          "population": 2009245,
          "year": 2007
         },
         {
          "cont": "Africa",
          "country": "Somalia",
          "gdp_cap": 926.1410683,
          "index": 116,
          "life_exp": 48.159,
          "population": 9118773,
          "year": 2007
         },
         {
          "cont": "Africa",
          "country": "South Africa",
          "gdp_cap": 9269.657808,
          "index": 117,
          "life_exp": 49.339,
          "population": 43997828,
          "year": 2007
         },
         {
          "cont": "Europe",
          "country": "Spain",
          "gdp_cap": 28821.0637,
          "index": 118,
          "life_exp": 80.941,
          "population": 40448191,
          "year": 2007
         },
         {
          "cont": "Asia",
          "country": "Sri Lanka",
          "gdp_cap": 3970.095407,
          "index": 119,
          "life_exp": 72.396,
          "population": 20378239,
          "year": 2007
         },
         {
          "cont": "Africa",
          "country": "Sudan",
          "gdp_cap": 2602.394995,
          "index": 120,
          "life_exp": 58.556,
          "population": 42292929,
          "year": 2007
         },
         {
          "cont": "Africa",
          "country": "Swaziland",
          "gdp_cap": 4513.480643,
          "index": 121,
          "life_exp": 39.613,
          "population": 1133066,
          "year": 2007
         },
         {
          "cont": "Europe",
          "country": "Sweden",
          "gdp_cap": 33859.74835,
          "index": 122,
          "life_exp": 80.884,
          "population": 9031088,
          "year": 2007
         },
         {
          "cont": "Europe",
          "country": "Switzerland",
          "gdp_cap": 37506.41907,
          "index": 123,
          "life_exp": 81.701,
          "population": 7554661,
          "year": 2007
         },
         {
          "cont": "Asia",
          "country": "Syria",
          "gdp_cap": 4184.548089,
          "index": 124,
          "life_exp": 74.143,
          "population": 19314747,
          "year": 2007
         },
         {
          "cont": "Asia",
          "country": "Taiwan",
          "gdp_cap": 28718.27684,
          "index": 125,
          "life_exp": 78.4,
          "population": 23174294,
          "year": 2007
         },
         {
          "cont": "Africa",
          "country": "Tanzania",
          "gdp_cap": 1107.482182,
          "index": 126,
          "life_exp": 52.517,
          "population": 38139640,
          "year": 2007
         },
         {
          "cont": "Asia",
          "country": "Thailand",
          "gdp_cap": 7458.396327,
          "index": 127,
          "life_exp": 70.616,
          "population": 65068149,
          "year": 2007
         },
         {
          "cont": "Africa",
          "country": "Togo",
          "gdp_cap": 882.9699438,
          "index": 128,
          "life_exp": 58.42,
          "population": 5701579,
          "year": 2007
         },
         {
          "cont": "Americas",
          "country": "Trinidad and Tobago",
          "gdp_cap": 18008.50924,
          "index": 129,
          "life_exp": 69.819,
          "population": 1056608,
          "year": 2007
         },
         {
          "cont": "Africa",
          "country": "Tunisia",
          "gdp_cap": 7092.923025,
          "index": 130,
          "life_exp": 73.923,
          "population": 10276158,
          "year": 2007
         },
         {
          "cont": "Europe",
          "country": "Turkey",
          "gdp_cap": 8458.276384,
          "index": 131,
          "life_exp": 71.777,
          "population": 71158647,
          "year": 2007
         },
         {
          "cont": "Africa",
          "country": "Uganda",
          "gdp_cap": 1056.380121,
          "index": 132,
          "life_exp": 51.542,
          "population": 29170398,
          "year": 2007
         },
         {
          "cont": "Europe",
          "country": "United Kingdom",
          "gdp_cap": 33203.26128,
          "index": 133,
          "life_exp": 79.425,
          "population": 60776238,
          "year": 2007
         },
         {
          "cont": "Americas",
          "country": "United States",
          "gdp_cap": 42951.65309,
          "index": 134,
          "life_exp": 78.242,
          "population": 301139947,
          "year": 2007
         },
         {
          "cont": "Americas",
          "country": "Uruguay",
          "gdp_cap": 10611.46299,
          "index": 135,
          "life_exp": 76.384,
          "population": 3447496,
          "year": 2007
         },
         {
          "cont": "Americas",
          "country": "Venezuela",
          "gdp_cap": 11415.80569,
          "index": 136,
          "life_exp": 73.747,
          "population": 26084662,
          "year": 2007
         },
         {
          "cont": "Asia",
          "country": "Vietnam",
          "gdp_cap": 2441.576404,
          "index": 137,
          "life_exp": 74.249,
          "population": 85262356,
          "year": 2007
         },
         {
          "cont": "Asia",
          "country": "West Bank and Gaza",
          "gdp_cap": 3025.349798,
          "index": 138,
          "life_exp": 73.422,
          "population": 4018332,
          "year": 2007
         },
         {
          "cont": "Asia",
          "country": "Yemen, Rep.",
          "gdp_cap": 2280.769906,
          "index": 139,
          "life_exp": 62.698,
          "population": 22211743,
          "year": 2007
         },
         {
          "cont": "Africa",
          "country": "Zambia",
          "gdp_cap": 1271.211593,
          "index": 140,
          "life_exp": 42.384,
          "population": 11746035,
          "year": 2007
         },
         {
          "cont": "Africa",
          "country": "Zimbabwe",
          "gdp_cap": 469.7092981,
          "index": 141,
          "life_exp": 43.487,
          "population": 12311143,
          "year": 2007
         }
        ],
        "schema": {
         "fields": [
          {
           "name": "index",
           "type": "integer"
          },
          {
           "name": "country",
           "type": "string"
          },
          {
           "name": "year",
           "type": "integer"
          },
          {
           "name": "population",
           "type": "number"
          },
          {
           "name": "cont",
           "type": "string"
          },
          {
           "name": "life_exp",
           "type": "number"
          },
          {
           "name": "gdp_cap",
           "type": "number"
          }
         ],
         "pandas_version": "0.20.0",
         "primaryKey": [
          "index"
         ]
        }
       },
       "total_rows": 142
      },
      "text/html": [
       "<div>\n",
       "<style scoped>\n",
       "    .dataframe tbody tr th:only-of-type {\n",
       "        vertical-align: middle;\n",
       "    }\n",
       "\n",
       "    .dataframe tbody tr th {\n",
       "        vertical-align: top;\n",
       "    }\n",
       "\n",
       "    .dataframe thead th {\n",
       "        text-align: right;\n",
       "    }\n",
       "</style>\n",
       "<table border=\"1\" class=\"dataframe\">\n",
       "  <thead>\n",
       "    <tr style=\"text-align: right;\">\n",
       "      <th></th>\n",
       "      <th>country</th>\n",
       "      <th>year</th>\n",
       "      <th>population</th>\n",
       "      <th>cont</th>\n",
       "      <th>life_exp</th>\n",
       "      <th>gdp_cap</th>\n",
       "    </tr>\n",
       "  </thead>\n",
       "  <tbody>\n",
       "    <tr>\n",
       "      <th>0</th>\n",
       "      <td>Afghanistan</td>\n",
       "      <td>2007</td>\n",
       "      <td>31889923.0</td>\n",
       "      <td>Asia</td>\n",
       "      <td>43.828</td>\n",
       "      <td>974.580338</td>\n",
       "    </tr>\n",
       "    <tr>\n",
       "      <th>1</th>\n",
       "      <td>Albania</td>\n",
       "      <td>2007</td>\n",
       "      <td>3600523.0</td>\n",
       "      <td>Europe</td>\n",
       "      <td>76.423</td>\n",
       "      <td>5937.029526</td>\n",
       "    </tr>\n",
       "    <tr>\n",
       "      <th>2</th>\n",
       "      <td>Algeria</td>\n",
       "      <td>2007</td>\n",
       "      <td>33333216.0</td>\n",
       "      <td>Africa</td>\n",
       "      <td>72.301</td>\n",
       "      <td>6223.367465</td>\n",
       "    </tr>\n",
       "    <tr>\n",
       "      <th>3</th>\n",
       "      <td>Angola</td>\n",
       "      <td>2007</td>\n",
       "      <td>12420476.0</td>\n",
       "      <td>Africa</td>\n",
       "      <td>42.731</td>\n",
       "      <td>4797.231267</td>\n",
       "    </tr>\n",
       "    <tr>\n",
       "      <th>4</th>\n",
       "      <td>Argentina</td>\n",
       "      <td>2007</td>\n",
       "      <td>40301927.0</td>\n",
       "      <td>Americas</td>\n",
       "      <td>75.320</td>\n",
       "      <td>12779.379640</td>\n",
       "    </tr>\n",
       "    <tr>\n",
       "      <th>...</th>\n",
       "      <td>...</td>\n",
       "      <td>...</td>\n",
       "      <td>...</td>\n",
       "      <td>...</td>\n",
       "      <td>...</td>\n",
       "      <td>...</td>\n",
       "    </tr>\n",
       "    <tr>\n",
       "      <th>137</th>\n",
       "      <td>Vietnam</td>\n",
       "      <td>2007</td>\n",
       "      <td>85262356.0</td>\n",
       "      <td>Asia</td>\n",
       "      <td>74.249</td>\n",
       "      <td>2441.576404</td>\n",
       "    </tr>\n",
       "    <tr>\n",
       "      <th>138</th>\n",
       "      <td>West Bank and Gaza</td>\n",
       "      <td>2007</td>\n",
       "      <td>4018332.0</td>\n",
       "      <td>Asia</td>\n",
       "      <td>73.422</td>\n",
       "      <td>3025.349798</td>\n",
       "    </tr>\n",
       "    <tr>\n",
       "      <th>139</th>\n",
       "      <td>Yemen, Rep.</td>\n",
       "      <td>2007</td>\n",
       "      <td>22211743.0</td>\n",
       "      <td>Asia</td>\n",
       "      <td>62.698</td>\n",
       "      <td>2280.769906</td>\n",
       "    </tr>\n",
       "    <tr>\n",
       "      <th>140</th>\n",
       "      <td>Zambia</td>\n",
       "      <td>2007</td>\n",
       "      <td>11746035.0</td>\n",
       "      <td>Africa</td>\n",
       "      <td>42.384</td>\n",
       "      <td>1271.211593</td>\n",
       "    </tr>\n",
       "    <tr>\n",
       "      <th>141</th>\n",
       "      <td>Zimbabwe</td>\n",
       "      <td>2007</td>\n",
       "      <td>12311143.0</td>\n",
       "      <td>Africa</td>\n",
       "      <td>43.487</td>\n",
       "      <td>469.709298</td>\n",
       "    </tr>\n",
       "  </tbody>\n",
       "</table>\n",
       "<p>142 rows × 6 columns</p>\n",
       "</div>"
      ],
      "text/plain": [
       "                country  year  population      cont  life_exp       gdp_cap\n",
       "0           Afghanistan  2007  31889923.0      Asia    43.828    974.580338\n",
       "1               Albania  2007   3600523.0    Europe    76.423   5937.029526\n",
       "2               Algeria  2007  33333216.0    Africa    72.301   6223.367465\n",
       "3                Angola  2007  12420476.0    Africa    42.731   4797.231267\n",
       "4             Argentina  2007  40301927.0  Americas    75.320  12779.379640\n",
       "..                  ...   ...         ...       ...       ...           ...\n",
       "137             Vietnam  2007  85262356.0      Asia    74.249   2441.576404\n",
       "138  West Bank and Gaza  2007   4018332.0      Asia    73.422   3025.349798\n",
       "139         Yemen, Rep.  2007  22211743.0      Asia    62.698   2280.769906\n",
       "140              Zambia  2007  11746035.0    Africa    42.384   1271.211593\n",
       "141            Zimbabwe  2007  12311143.0    Africa    43.487    469.709298\n",
       "\n",
       "[142 rows x 6 columns]"
      ]
     },
     "execution_count": 3,
     "metadata": {},
     "output_type": "execute_result"
    }
   ],
   "source": [
    "# Import the course packages\n",
    "import numpy as np\n",
    "import pandas as pd\n",
    "import matplotlib.pyplot as plt\n",
    "\n",
    "# Import two datasets\n",
    "gapminder = pd.read_csv(\"datasets/gapminder.csv\")\n",
    "brics = pd.read_csv(\"datasets/brics.csv\")\n",
    "\n",
    "# Print the first DataFrame\n",
    "gapminder"
   ]
  },
  {
   "cell_type": "markdown",
   "id": "c09c5c3a",
   "metadata": {},
   "source": [
    "## 2. Write Code\n",
    "After executing the cell above, two pandas DataFrames are created: `gapminder` and `brics`.\n",
    "\n",
    "**Add code** to the code cells below to try one (or more) of the following challenges:\n",
    "\n",
    "1. Create a loop that iterates through the `brics` DataFrame and prints \"The population of {country} is {population} million!\".\n",
    "\n",
    "\n",
    "2. Create a histogram of the life expectancies for countries in Africa in the `gapminder` DataFrame. Make sure your plot has a title, axis labels, and has an appropriate number of bins.\n",
    "\n",
    "\n",
    "3. Simulate 10 rolls of two six-sided dice. If the two dice add up to 7 or 11, print \"A win!\". If the two dice add up to 2, 3, or 12, print \"A loss!\". If the two dice add up to any other number, print \"Roll again!\"."
   ]
  },
  {
   "cell_type": "code",
   "execution_count": 4,
   "id": "10176b86",
   "metadata": {},
   "outputs": [
    {
     "name": "stdout",
     "output_type": "stream",
     "text": [
      "The population of Brazil is 200.4 milion\n",
      "The population of Russia is 143.5 milion\n",
      "The population of India is 1252.0 milion\n",
      "The population of China is 1357.0 milion\n",
      "The population of South Africa is 52.98 milion\n"
     ]
    }
   ],
   "source": [
    "# 1. Create a loop that prints each country and population in brics\n",
    "for lab, val in brics.iterrows() :\n",
    "    print(\"The population of \" + str(val[\"country\"]) + \" is \" + str(val[\"population\"]) + \" milion\")"
   ]
  },
  {
   "cell_type": "code",
   "execution_count": 34,
   "id": "orange-findings",
   "metadata": {},
   "outputs": [
    {
     "data": {
      "image/png": "[encoded data removed]",
      "text/plain": [
       "<Figure size 432x288 with 1 Axes>"
      ]
     },
     "metadata": {
      "needs_background": "light"
     },
     "output_type": "display_data"
    }
   ],
   "source": [
    "# 2. Create a histogram of life expectancies per country in Africa in gapminder\n",
    "gapminder_africa = gapminder[gapminder.cont == \"Africa\"]\n",
    "plt.hist(gapminder_africa.life_exp, bins=20)\n",
    "plt.title(\"Life expectancies per Country in Africa\")\n",
    "plt.xlabel(\"Life expectancies\")\n",
    "plt.ylabel(\"Countries\")\n",
    "plt.show()"
   ]
  },
  {
   "cell_type": "code",
   "execution_count": 39,
   "id": "spread-contamination",
   "metadata": {},
   "outputs": [
    {
     "name": "stdout",
     "output_type": "stream",
     "text": [
      "Roll again!\n",
      "A loss!\n",
      "Roll again!\n",
      "Roll again!\n",
      "Roll again!\n",
      "Roll again!\n",
      "A win!\n",
      "Roll again!\n",
      "Roll again!\n",
      "Roll again!\n"
     ]
    }
   ],
   "source": [
    "# 3. Simulate 10 rolls of two six-sided dice\n",
    "for x in range(10) :\n",
    "    dice1 = np.random.randint(1,7)\n",
    "    dice2 = np.random.randint(1,7)\n",
    "    if dice1 + dice2 == 7 or dice1 + dice2 == 11 :\n",
    "        print(\"A win!\")\n",
    "    elif dice1 + dice2 == 2 or dice1 + dice2 == 3 or dice1 + dice2 == 12 :\n",
    "        print(\"A loss!\")\n",
    "    else :\n",
    "        print(\"Roll again!\")"
   ]
  }
 ],
 "metadata": {
  "colab": {
   "name": "Welcome to DataCamp Workspaces.ipynb",
   "provenance": []
  },
  "editor": "DataCamp Workspace",
  "kernelspec": {
   "display_name": "Python 3 (ipykernel)",
   "language": "python",
   "name": "python3"
  },
  "language_info": {
   "codemirror_mode": {
    "name": "ipython",
    "version": 3
   },
   "file_extension": ".py",
   "mimetype": "text/x-python",
   "name": "python",
   "nbconvert_exporter": "python",
   "pygments_lexer": "ipython3",
   "version": "3.9.2"
  },
  "varInspector": {
   "cols": {
    "lenName": 16,
    "lenType": 16,
    "lenVar": 40
   },
   "kernels_config": {
    "python": {
     "delete_cmd_postfix": "",
     "delete_cmd_prefix": "del ",
     "library": "var_list.py",
     "varRefreshCmd": "print(var_dic_list())"
    },
    "r": {
     "delete_cmd_postfix": ") ",
     "delete_cmd_prefix": "rm(",
     "library": "var_list.r",
     "varRefreshCmd": "cat(var_dic_list()) "
    }
   },
   "types_to_exclude": [
    "module",
    "function",
    "builtin_function_or_method",
    "instance",
    "_Feature"
   ],
   "window_display": false
  }
 },
 "nbformat": 4,
 "nbformat_minor": 5
}
